{
  "cells": [
    {
      "cell_type": "markdown",
      "metadata": {
        "id": "view-in-github",
        "colab_type": "text"
      },
      "source": [
        "<a href=\"https://colab.research.google.com/github/RashaAlshawi/EFPN/blob/main/DataImbalance/DataAugmentation.ipynb\" target=\"_parent\"><img src=\"https://colab.research.google.com/assets/colab-badge.svg\" alt=\"Open In Colab\"/></a>"
      ]
    },
    {
      "cell_type": "code",
      "source": [
        "import cv2\n",
        "import numpy as np"
      ],
      "metadata": {
        "id": "nTgWFjTGt4mq"
      },
      "execution_count": null,
      "outputs": []
    },
    {
      "cell_type": "code",
      "execution_count": null,
      "metadata": {
        "colab": {
          "base_uri": "https://localhost:8080/"
        },
        "id": "J5X4Zcc1y44P",
        "outputId": "133a661b-2945-411f-cc1b-51c6b4cde2db"
      },
      "outputs": [
        {
          "output_type": "stream",
          "name": "stdout",
          "text": [
            "Mounted at /content/drive\n"
          ]
        }
      ],
      "source": [
        "from google.colab import drive\n",
        "drive.mount('/content/drive')"
      ]
    },
    {
      "cell_type": "code",
      "execution_count": null,
      "metadata": {
        "id": "RDYfm3Ng0K9S"
      },
      "outputs": [],
      "source": [
        "#CHANGE WITH YOUR DATA\n",
        "X_P=np.load('/content/drive/MyDrive/VideoFrames/PositiveImageNew.npy')\n",
        "y_P=np.load('/content/drive/MyDrive/VideoFrames/PositivemaskNew.npy')"
      ]
    },
    {
      "cell_type": "code",
      "source": [
        "X_P, y_P = shuffle(X_P, y_P, random_state=10)"
      ],
      "metadata": {
        "id": "MXeeQqa8tX04"
      },
      "execution_count": null,
      "outputs": []
    },
    {
      "cell_type": "code",
      "source": [
        "samples_train = int(0.80 * len(X_P))\n",
        "samples_val = int(0.20 * len(y_P))\n",
        "\n",
        "X_trainAndVal = X_datas[:samples_train]\n",
        "y_trainAndVal = y_datas[:samples_train]\n",
        "\n",
        "X_test = X_datas[samples_train:samples_train + samples_val]\n",
        "y_test = y_datas[samples_train:samples_train + samples_val]"
      ],
      "metadata": {
        "id": "bTLbViDkb6qB"
      },
      "execution_count": null,
      "outputs": []
    },
    {
      "cell_type": "code",
      "source": [
        "def augment_data(images, labels):\n",
        "    augmented_images = []\n",
        "    augmented_labels = []\n",
        "\n",
        "    # Ensure images are in uint8 format and channels are in the correct order\n",
        "    images = np.uint8(images)\n",
        "    labels = np.uint8(labels)\n",
        "\n",
        "    for image, label in zip(images, labels):\n",
        "        # Horizontal Flip\n",
        "        augmented_image = cv2.flip(image, 1)  # 1 for horizontal flip\n",
        "        augmented_label = cv2.flip(label, 1)  # 1 for horizontal flip\n",
        "        augmented_images.append(augmented_image)\n",
        "        augmented_labels.append(augmented_label)\n",
        "\n",
        "        # Color Jittering\n",
        "        brightness = np.random.uniform(0.5, 1.5)  # Random brightness factor\n",
        "        contrast = np.random.uniform(0.5, 1.5)    # Random contrast factor\n",
        "        saturation = np.random.uniform(0.5, 1.5)  # Random saturation factor\n",
        "        hue = np.random.uniform(-0.1, 0.1)       # Random hue shift\n",
        "        hsv_image = cv2.cvtColor(image, cv2.COLOR_BGR2HSV)\n",
        "        hsv_image = np.array(hsv_image, dtype=np.float64)\n",
        "        hsv_image[:, :, 2] *= brightness\n",
        "        hsv_image[:, :, 1] *= contrast\n",
        "        hsv_image[:, :, 1] = np.clip(hsv_image[:, :, 1], 0, 255)\n",
        "        hsv_image[:, :, 1] *= saturation\n",
        "        hsv_image[:, :, 1] = np.clip(hsv_image[:, :, 1], 0, 255)\n",
        "        hsv_image[:, :, 0] += hue * 180\n",
        "        hsv_image[:, :, 0] = np.clip(hsv_image[:, :, 0], 0, 180)\n",
        "        image = np.array(hsv_image, dtype=np.uint8)\n",
        "        augmented_images.append(image)\n",
        "        augmented_labels.append(label)  # No change to label for color jittering\n",
        "             # Shearing\n",
        "        shear_factor = 0.2  # Shear factor\n",
        "        shear_matrix = np.array([[1, shear_factor, 0], [0, 1, 0]])\n",
        "        sheared_image = cv2.warpAffine(image, shear_matrix, (image.shape[1], image.shape[0]))\n",
        "        sheared_label = cv2.warpAffine(label, shear_matrix, (label.shape[1], label.shape[0]))\n",
        "        augmented_images.append(sheared_image)\n",
        "        augmented_labels.append(sheared_label)\n",
        "\n",
        "\n",
        "    # Rotate\n",
        "        rotation_angle1 = 50  # in degrees\n",
        "        rotation_matrix = cv2.getRotationMatrix2D((image.shape[1] / 2, image.shape[0] / 2), rotation_angle1, 1)\n",
        "        rotated_image1 = cv2.warpAffine(image, rotation_matrix, (image.shape[1], image.shape[0]))\n",
        "        rotated_label1= cv2.warpAffine(label, rotation_matrix, (label.shape[1], label.shape[0]))\n",
        "        augmented_images.append(rotated_image1)\n",
        "        augmented_labels.append(rotated_label1)\n",
        "\n",
        "\n",
        "        # Random Crop\n",
        "        crop_height, crop_width = 100, 100  # Adjust crop size as needed\n",
        "        y_start = np.random.randint(0, image.shape[0] - crop_height)\n",
        "        x_start = np.random.randint(0, image.shape[1] - crop_width)\n",
        "        cropped_image = image[y_start:y_start+crop_height, x_start:x_start+crop_width]\n",
        "        cropped_label = label[y_start:y_start+crop_height, x_start:x_start+crop_width]\n",
        "        cropped_image = cv2.resize(cropped_image, (image.shape[1], image.shape[0]))  # Resize cropped image to match original size\n",
        "        cropped_label = cv2.resize(cropped_label, (label.shape[1], label.shape[0]))  # Resize cropped label to match original size\n",
        "        augmented_images.append(cropped_image)\n",
        "        augmented_labels.append(cropped_label)\n",
        "\n",
        "\n",
        "    return np.array(augmented_images), np.array(augmented_labels)"
      ],
      "metadata": {
        "id": "TQxnGxe8jLk3"
      },
      "execution_count": null,
      "outputs": []
    },
    {
      "cell_type": "code",
      "source": [
        "augmented_images, augmented_labels = augment_data(X_trainAndVal, y_trainAndVal)"
      ],
      "metadata": {
        "id": "988AIJojioaF"
      },
      "execution_count": null,
      "outputs": []
    },
    {
      "cell_type": "markdown",
      "source": [],
      "metadata": {
        "id": "EQspy6EMjyQx"
      }
    },
    {
      "cell_type": "code",
      "source": [
        "# CHANGE WITH YOUR PATH\n",
        "path='/content/drive/MyDrive/VideoFrames/DS/'"
      ],
      "metadata": {
        "id": "M2V_i8GchGJR"
      },
      "execution_count": null,
      "outputs": []
    },
    {
      "cell_type": "markdown",
      "source": [
        "After applying data augmention, compine the original samples with the augmented once"
      ],
      "metadata": {
        "id": "2oX0K1xFs1cE"
      }
    },
    {
      "cell_type": "code",
      "source": [
        "Xall=np.concatenate((X_trainAndVal,augmented_images))\n",
        "yall=np.concatenate((y_trainAndVal,augmented_labels))"
      ],
      "metadata": {
        "id": "deNti_ATs0Ab"
      },
      "execution_count": null,
      "outputs": []
    },
    {
      "cell_type": "code",
      "source": [
        "# Save training and Validating images\n",
        "np.save(path+'Xall_fortrainingAndValidating',Xall)\n",
        "np.save(path+'yall_fortrainingAndValidating',yall)"
      ],
      "metadata": {
        "id": "yppgbbICg-2X"
      },
      "execution_count": null,
      "outputs": []
    },
    {
      "cell_type": "code",
      "source": [
        "# Save testing\n",
        "np.save(path+'X_test',X_test)\n",
        "np.save(path+'X_test',X_test)"
      ],
      "metadata": {
        "id": "S65LM3KuhiCc"
      },
      "execution_count": null,
      "outputs": []
    }
  ],
  "metadata": {
    "colab": {
      "machine_shape": "hm",
      "provenance": [],
      "gpuType": "T4",
      "mount_file_id": "17a0VzPVpgScHw1vJoaDGm-Iv7ulDxlpJ",
      "authorship_tag": "ABX9TyMaahEAwYKQBKaiggeplcPQ",
      "include_colab_link": true
    },
    "kernelspec": {
      "display_name": "Python 3",
      "name": "python3"
    },
    "language_info": {
      "name": "python"
    },
    "accelerator": "GPU"
  },
  "nbformat": 4,
  "nbformat_minor": 0
}