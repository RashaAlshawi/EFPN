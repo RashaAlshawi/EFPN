{
  "cells": [
    {
      "cell_type": "markdown",
      "metadata": {
        "id": "view-in-github",
        "colab_type": "text"
      },
      "source": [
        "<a href=\"https://colab.research.google.com/github/RashaAlshawi/EFPN/blob/main/DataImbalance/ClassDecomposition_DataAugmentation.ipynb\" target=\"_parent\"><img src=\"https://colab.research.google.com/assets/colab-badge.svg\" alt=\"Open In Colab\"/></a>"
      ]
    },
    {
      "cell_type": "markdown",
      "source": [
        "**Enhanced Feature Pyramid Network (E-FPN) Training Guide**\n",
        "\n",
        "This guide outlines the steps for training E-FPN model using class decomposition and data augmentation.\n",
        "\n",
        "1. Training with Data Augmentation\n",
        "To begin training with data augmentation:\n",
        "\n",
        "* Apply data augmentation to your dataset using the provided code under the \"Data Augmentation\" section.\n",
        "* Save the newly augmented dataset and train EFPN model on it.\n",
        "\n",
        "2. Class Decomposition\n",
        "For class decomposition:\n",
        "\n",
        "* Separate each individual class from your multiclass dataset, ensuring that each class is paired with the correct mask.\n",
        "* Create a smaller dataset that contains at least three classes.\n",
        "* Train EFPN on each smaller dataset and save the trained model.\n",
        "* Apply ensemble learning to combine the results of the individual models.\n",
        "3. Class Decomposition with Data Augmentation\n",
        "For class decomposition combined with data augmentation:\n",
        "\n",
        "* Separate the classes from the augmented dataset created in Step 1.\n",
        "* Follow the same steps outlined in Step 2 on this augmented dataset."
      ],
      "metadata": {
        "id": "Hbz6CA2kM4C0"
      }
    },
    {
      "cell_type": "code",
      "execution_count": 64,
      "metadata": {
        "id": "zXvAS9c-FA0F",
        "colab": {
          "base_uri": "https://localhost:8080/"
        },
        "outputId": "f396fc9c-b8b5-453f-8472-8b012e5a4185"
      },
      "outputs": [
        {
          "output_type": "stream",
          "name": "stdout",
          "text": [
            "Requirement already satisfied: pyyaml in /usr/local/lib/python3.11/dist-packages (6.0.2)\n",
            "Requirement already satisfied: h5py in /usr/local/lib/python3.11/dist-packages (3.12.1)\n",
            "Requirement already satisfied: numpy>=1.19.3 in /usr/local/lib/python3.11/dist-packages (from h5py) (1.26.4)\n"
          ]
        }
      ],
      "source": [
        "#@title Import Libraries\n",
        "import tensorflow as tf\n",
        "from tensorflow.keras.layers import Conv2D, MaxPool2D, SeparableConv2D,MaxPooling2D, concatenate, Conv2DTranspose,  BatchNormalization, Activation, MaxPooling2D, UpSampling2D, Add, Multiply\n",
        "from tensorflow.keras.models import Model\n",
        "from tensorflow.keras import regularizers, initializers,layers\n",
        "import math\n",
        "import numpy as np\n",
        "from sklearn.utils import shuffle\n",
        "import cv2\n",
        "import matplotlib.pyplot as plt\n",
        "import os\n",
        "import pandas as pd\n",
        "from tensorflow.keras import backend as K\n",
        "import datetime\n",
        "from keras.utils import to_categorical\n",
        "\n",
        "from sklearn.metrics import f1_score\n",
        "from sklearn.metrics import matthews_corrcoef\n",
        "!pip install pyyaml h5py  # Required to save models in HDF5 format\n",
        "from keras.models import load_model\n",
        "\n",
        "#import tensorflow_addons as tfa"
      ]
    },
    {
      "cell_type": "markdown",
      "metadata": {
        "id": "RHy9_aOndjjM"
      },
      "source": [
        "#Blocks"
      ]
    },
    {
      "cell_type": "code",
      "execution_count": 2,
      "metadata": {
        "id": "WlfLr6EQlK6V"
      },
      "outputs": [],
      "source": [
        "activation_=tf.keras.activations.relu\n",
        "def conv_block(inputs, filters, kernel_size=(3, 3), padding='same', activation=activation_):\n",
        "    conv = layers.SeparableConv2D(filters, kernel_size, padding=padding)(inputs)\n",
        "    conv = layers.BatchNormalization()(conv)\n",
        "    conv = activation(conv)\n",
        "    return conv"
      ]
    },
    {
      "cell_type": "code",
      "execution_count": 3,
      "metadata": {
        "id": "Gxw5-9NlmFj7"
      },
      "outputs": [],
      "source": [
        "#Depth Wise Separable Block\n",
        "def inception_sepconvblock(inputs, f1, f2, f3):\n",
        "    conva = SeparableConv2D(f1, (3, 3), activation='relu', padding='same')(inputs)\n",
        "    conva = SeparableConv2D(f1, (3, 3), activation='relu', padding='same')(conva)\n",
        "\n",
        "    convb = SeparableConv2D(f2, (5, 5), activation='relu', padding='same')(inputs)\n",
        "    convb = SeparableConv2D(f2, (5, 5), activation='relu', padding='same')(convb)\n",
        "\n",
        "    convc = MaxPooling2D((3, 3), strides=(1, 1), padding='same')(inputs)\n",
        "    convc = Conv2D(f3, (1, 1), padding='same')(convc)\n",
        "\n",
        "    concatenated = concatenate([conva, convb, convc])\n",
        "    print(concatenated.shape)\n",
        "\n",
        "    return concatenated"
      ]
    },
    {
      "cell_type": "code",
      "execution_count": null,
      "metadata": {
        "id": "jPrbvWJ_xL3d"
      },
      "outputs": [],
      "source": [
        "#@title Base Enhanced Feature Pyramid Network (EFPN)\n",
        "def build_fpn(input_shape, num_classes):\n",
        "    inputs = tf.keras.Input(shape=input_shape)\n",
        "    # Bottom-up pathway\n",
        "    conv1 = inception_sepconvblock(inputs, f1=22, f2=21, f3=21)\n",
        "    pool1 = layers.MaxPooling2D(pool_size=(2, 2))(conv1)\n",
        "    conv2 = inception_sepconvblock(pool1, f1=44, f2=42, f3=42)  # 128x128\n",
        "    pool2 = layers.MaxPooling2D(pool_size=(2, 2))(conv2)\n",
        "    conv3 = inception_sepconvblock(pool2, f1=86, f2=85, f3=85)  # 64x64\n",
        "    pool3 = layers.MaxPooling2D(pool_size=(2, 2))(conv3)\n",
        "    conv4 = inception_sepconvblock(pool3, f1=171, f2=171, f3=170)  # 32x32\n",
        "    pool4 = layers.MaxPooling2D(pool_size=(2, 2))(conv4)\n",
        "    conv5 = inception_sepconvblock(pool4, f1=342, f2=341, f3=341)  # 16x16\n",
        "\n",
        "    # Top-down pathway\n",
        "    p5 = conv_block(conv5, 128, kernel_size=(1, 1))  # Reduce channel depth of conv5\n",
        "    p4 = conv_block(conv4, 128, kernel_size=(1, 1)) + tf.keras.layers.UpSampling2D(size=(2, 2))(p5)\n",
        "    p3 = conv_block(conv3, 128, kernel_size=(1, 1)) + tf.keras.layers.UpSampling2D(size=(2, 2))(p4)  # Upsampling factor adjusted\n",
        "    p2 = conv_block(conv2, 128, kernel_size=(1, 1)) + tf.keras.layers.UpSampling2D(size=(2, 2))(p3)  # Upsampling factor adjusted\n",
        "\n",
        "    # Prediction heads\n",
        "    output_p3 = layers.SeparableConv2D(num_classes, (3, 3), padding='same', activation='softmax')(p3)\n",
        "    output_p4 = layers.SeparableConv2D(num_classes, (3, 3), padding='same', activation='softmax')(p4)\n",
        "    output_p5 = layers.SeparableConv2D(num_classes, (3, 3), padding='same', activation='softmax')(p5)\n",
        "    output_p2 = layers.SeparableConv2D(num_classes, (3, 3), padding='same', activation='softmax')(p2)\n",
        "\n",
        "    # Final prediction merging\n",
        "    output1 = tf.keras.layers.UpSampling2D(size=(2, 2))(output_p2)+tf.keras.layers.UpSampling2D(size=(4, 4))(output_p3)+ tf.keras.layers.UpSampling2D(size=(8, 8))(output_p4) + tf.keras.layers.UpSampling2D(size=(16, 16))(output_p5)\n",
        "    output = layers.SeparableConv2D(num_classes, (3, 3), padding='same', activation='softmax')(output1)\n",
        "    model = tf.keras.Model(inputs=inputs, outputs=output)\n",
        "    return model\n"
      ]
    },
    {
      "cell_type": "code",
      "execution_count": null,
      "metadata": {
        "id": "rBxnT6hBaPqu"
      },
      "outputs": [],
      "source": [
        "num_classes=4 # 3 classes + 1 background = 4\n",
        "input_shape = (128, 128, 3)"
      ]
    },
    {
      "cell_type": "code",
      "execution_count": null,
      "metadata": {
        "id": "s9aDaw-clZUn",
        "colab": {
          "base_uri": "https://localhost:8080/"
        },
        "outputId": "07132388-7754-403b-aa1a-c626eeb6e563"
      },
      "outputs": [
        {
          "output_type": "stream",
          "name": "stdout",
          "text": [
            "(None, 128, 128, 64)\n",
            "(None, 64, 64, 128)\n",
            "(None, 32, 32, 256)\n",
            "(None, 16, 16, 512)\n",
            "(None, 8, 8, 1024)\n"
          ]
        }
      ],
      "source": [
        "modelG1 = build_fpn(input_shape, num_classes)\n",
        "#modelG2 = build_fpn(input_shape, num_classes) # It is the same model but trained on different classes.\n",
        "#modelG3 = build_fpn(input_shape, num_classes)\n",
        "\n",
        "#model.summary()"
      ]
    },
    {
      "cell_type": "markdown",
      "metadata": {
        "id": "-8qtV2asdeSO"
      },
      "source": [
        "#Load and Compile"
      ]
    },
    {
      "cell_type": "code",
      "execution_count": null,
      "metadata": {
        "id": "BKvmKWC1x3l3"
      },
      "outputs": [],
      "source": [
        "dice_loss = sm.losses.DiceLoss()\n",
        "focal_loss = sm.losses.CategoricalFocalLoss()\n",
        "total_loss = dice_loss + (1 * focal_loss)"
      ]
    },
    {
      "cell_type": "code",
      "execution_count": null,
      "metadata": {
        "id": "qb7iupHxdaRK"
      },
      "outputs": [],
      "source": [
        "modelG1.compile(optimizer=tf.keras.optimizers.Adam(learning_rate=0.0009),\n",
        "              loss=tf.keras.losses.CategoricalCrossentropy(),\n",
        "              #metrics=[sm.metrics.IOUScore(threshold=0.5), sm.metrics.FScore(threshold=0.5)]\n",
        "              #,run_eagerly=True\n",
        "\n",
        "              ) #tf.keras.metrics.Accuracy(), tf.keras.metrics.Precision(),\n"
      ]
    },
    {
      "cell_type": "code",
      "execution_count": 4,
      "metadata": {
        "colab": {
          "base_uri": "https://localhost:8080/"
        },
        "id": "J5X4Zcc1y44P",
        "outputId": "fa205b88-097c-46d8-f8ea-5d836dd551f8"
      },
      "outputs": [
        {
          "output_type": "stream",
          "name": "stdout",
          "text": [
            "Mounted at /content/drive\n"
          ]
        }
      ],
      "source": [
        "#@title Load Culver-Sewer Dataset\n",
        "from google.colab import drive\n",
        "drive.mount('/content/drive')"
      ]
    },
    {
      "cell_type": "code",
      "execution_count": null,
      "metadata": {
        "id": "RDYfm3Ng0K9S"
      },
      "outputs": [],
      "source": [
        "X_P=np.load('/content/drive/MyDrive/VideoFrames/PositiveImageNew.npy')\n",
        "y_P=np.load('/content/drive/MyDrive/VideoFrames/PositivemaskNew.npy')"
      ]
    },
    {
      "cell_type": "markdown",
      "source": [
        "## Class Decomposition with Data Augmentation:\n",
        "\n",
        "- **Group 1**: Cracks, Roost, and Holes.\n",
        "- **Group 2**: Deformation, Fracture, and Encrustation.\n",
        "- **Group 3**: Two classes of Joint Problems and one Loose Gasket.\n",
        "\n",
        "### Important Note:\n",
        "The classes have pixel values ranging from 0 to 9. To train the E-FPN model on smaller datasets, you must remap the class pixel values each time you load a group. This is necessary because each group has different pixel values. For example:\n",
        "\n",
        "- **Group 2** (Deformation, Fracture, and Encrustation) has the following pixel values:\n",
        "  - 0: Background\n",
        "  - 4: Deformation\n",
        "  - 5: Fracture\n",
        "  - 6: Encrustation\n",
        "\n",
        "If you use the default cross-entropy mapping without remapping the pixel values, it will result in an error. To avoid this, remap the classes as follows:\n",
        "\n",
        "```python\n",
        "# Class mapping for Group 2 (G2)\n",
        "class_mapping = {0: 0, 4: 1, 5: 2, 6: 3}  # G2\n"
      ],
      "metadata": {
        "id": "PvcjdwqRcqxT"
      }
    },
    {
      "cell_type": "code",
      "source": [
        "#G1\n",
        "X1=np.load('/content/drive/MyDrive/VideoFrames/DS/crackImage.npy')\n",
        "y1=np.load('/content/drive/MyDrive/VideoFrames/DS/.ipynb_checkpoints/crackMask.npy')\n",
        "\n",
        "X2=np.load('/content/drive/MyDrive/VideoFrames/DS/holeImage.npy')\n",
        "y2=np.load('/content/drive/MyDrive/VideoFrames/DS/holeMask.npy')\n",
        "\n",
        "X3=np.load('/content/drive/MyDrive/VideoFrames/DS/rootImage.npy')\n",
        "y3=np.load('/content/drive/MyDrive/VideoFrames/DS/rootMask.npy')\n"
      ],
      "metadata": {
        "id": "H3814JHUcozv"
      },
      "execution_count": null,
      "outputs": []
    },
    {
      "cell_type": "code",
      "source": [
        "XG1=np.concatenate((X1,X2,X3))\n",
        "yG1=np.concatenate((y1,y2,y3))"
      ],
      "metadata": {
        "id": "R7uczM22cyav"
      },
      "execution_count": null,
      "outputs": []
    },
    {
      "cell_type": "code",
      "execution_count": null,
      "metadata": {
        "id": "R71Gh_smmOY2"
      },
      "outputs": [],
      "source": [
        "#G2\n",
        "X4=np.load('/content/drive/MyDrive/VideoFrames/DS/DeformationImage.npy')\n",
        "y4=np.load('/content/drive/MyDrive/VideoFrames/DS/DeformationMask.npy')\n",
        "\n",
        "X5=np.load('/content/drive/MyDrive/VideoFrames/DS/fractureImage.npy')\n",
        "y5=np.load('/content/drive/MyDrive/VideoFrames/DS/fractureMask.npy')\n",
        "\n",
        "x6=np.load('/content/drive/MyDrive/VideoFrames/DS/encrustationImage.npy')\n",
        "y6=np.load('/content/drive/MyDrive/VideoFrames/DS/encrustationMask.npy')"
      ]
    },
    {
      "cell_type": "code",
      "source": [
        "XG1=np.concatenate((X4,X5,x6))\n",
        "yG1=np.concatenate((y4,y5,y6))"
      ],
      "metadata": {
        "id": "DICicgH-c7_-"
      },
      "execution_count": null,
      "outputs": []
    },
    {
      "cell_type": "code",
      "source": [
        "#G3:\n",
        "X7=np.load('/content/drive/MyDrive/VideoFrames/DS/jointImage.npy') # 2 class of Joint problems\n",
        "y7=np.load('/content/drive/MyDrive/VideoFrames/DS/jointMask.npy')\n",
        "\n",
        "X8=np.load('/content/drive/MyDrive/VideoFrames/DS/loose_gasketImage.npy')\n",
        "y8=np.load('/content/drive/MyDrive/VideoFrames/DS/loose_gasketMask.npy')"
      ],
      "metadata": {
        "id": "6UMNa5mXc-ZA"
      },
      "execution_count": null,
      "outputs": []
    },
    {
      "cell_type": "code",
      "source": [
        "XG1=np.concatenate((X7,X8))\n",
        "yG1=np.concatenate((y7,y8))"
      ],
      "metadata": {
        "id": "8l5JfpOidAPI"
      },
      "execution_count": null,
      "outputs": []
    },
    {
      "cell_type": "code",
      "source": [
        "#@title Class Decomposition with Data Augmentation\n",
        "X9=np.load('/content/drive/MyDrive/VideoFrames/DS/efpn_DecAug/augmented_rootsX.npy') # rootImage\n",
        "y9=np.load('/content/drive/MyDrive/VideoFrames/DS/efpn_DecAug/augmented_rootsy.npy')\n",
        "X10=np.load('/content/drive/MyDrive/VideoFrames/DS/efpn_DecAug/augmented_holesX.npy') # holeImage\n",
        "y10=np.load('/content/drive/MyDrive/VideoFrames/DS/efpn_DecAug/augmented_holesy.npy')"
      ],
      "metadata": {
        "id": "w65p4kDQdBzP"
      },
      "execution_count": null,
      "outputs": []
    },
    {
      "cell_type": "code",
      "source": [
        "XG1=np.concatenate((X1,X2,X3,X9,X10)) # here we combine the augmented samples with the original samples: eg. rootoriginal.np  + rootaugmented.np\n",
        "yG1=np.concatenate((y1,y2,y3,y9,y10))"
      ],
      "metadata": {
        "id": "ZuJrHL0DdwBK"
      },
      "execution_count": null,
      "outputs": []
    },
    {
      "cell_type": "code",
      "source": [
        "np.save('/content/drive/MyDrive/VideoFrames/DS/efpn_DecAug/XG1.npy',XG1)\n",
        "np.save('/content/drive/MyDrive/VideoFrames/DS/efpn_DecAug/yG1.npy',yG1)"
      ],
      "metadata": {
        "id": "9__CSnl7mD3T"
      },
      "execution_count": null,
      "outputs": []
    },
    {
      "cell_type": "code",
      "source": [
        "np.unique(yG1)"
      ],
      "metadata": {
        "colab": {
          "base_uri": "https://localhost:8080/"
        },
        "id": "SfYXIvwvmpL9",
        "outputId": "2d99662c-0536-45a1-d505-85d0d7d811fb"
      },
      "execution_count": null,
      "outputs": [
        {
          "output_type": "execute_result",
          "data": {
            "text/plain": [
              "array([0, 1, 2, 3])"
            ]
          },
          "metadata": {},
          "execution_count": 32
        }
      ]
    },
    {
      "cell_type": "code",
      "source": [
        "#G2\n",
        "X11=np.load('/content/drive/MyDrive/VideoFrames/DS/efpn_DecAug/augmented_DeformationX.npy') # DeformationImage\n",
        "y11=np.load('/content/drive/MyDrive/VideoFrames/DS/efpn_DecAug/augmented_Deformationy.npy')\n",
        "\n",
        "X13=np.load('/content/drive/MyDrive/VideoFrames/DS/efpn_DecAug/augmented_encrustationX.npy') # encrustationImage\n",
        "y13=np.load('/content/drive/MyDrive/VideoFrames/DS/efpn_DecAug/augmented_encrustationy.npy')"
      ],
      "metadata": {
        "id": "Ows4G4nYd5UT"
      },
      "execution_count": null,
      "outputs": []
    },
    {
      "cell_type": "code",
      "source": [
        "XG2=np.concatenate((X4,X5,x6,X11,X13)) # here we combine the augmented samples with the original samples: eg. rootoriginal.np  + rootaugmented.np\n",
        "yG2=np.concatenate((y4,y5,y6,y11,y13))"
      ],
      "metadata": {
        "id": "yLMrlQvMfVBD"
      },
      "execution_count": null,
      "outputs": []
    },
    {
      "cell_type": "code",
      "source": [
        "np.unique(yG2)"
      ],
      "metadata": {
        "colab": {
          "base_uri": "https://localhost:8080/"
        },
        "id": "sK--z0Nomh-3",
        "outputId": "9bfcea10-1ea1-455d-f2bb-879cadc622a7"
      },
      "execution_count": null,
      "outputs": [
        {
          "output_type": "execute_result",
          "data": {
            "text/plain": [
              "array([0, 4, 5, 6])"
            ]
          },
          "metadata": {},
          "execution_count": 36
        }
      ]
    },
    {
      "cell_type": "code",
      "source": [
        "np.save('/content/drive/MyDrive/VideoFrames/DS/efpn_DecAug/XG2.npy',XG2)\n",
        "np.save('/content/drive/MyDrive/VideoFrames/DS/efpn_DecAug/yG2.npy',yG2)"
      ],
      "metadata": {
        "id": "-a6GqMOZv-Uw"
      },
      "execution_count": null,
      "outputs": []
    },
    {
      "cell_type": "code",
      "source": [
        "# G3\n",
        "X14=np.load('/content/drive/MyDrive/VideoFrames/DS/efpn_DecAug/augmented_loose_gasketX.npy') # loose_gasketImage\n",
        "y14=np.load('/content/drive/MyDrive/VideoFrames/DS/efpn_DecAug/augmented_loose_gaskety.npy')"
      ],
      "metadata": {
        "id": "lFpQZQcueZ0q"
      },
      "execution_count": null,
      "outputs": []
    },
    {
      "cell_type": "code",
      "source": [
        "np.unique(y14),np.unique(y7),np.unique(y8)"
      ],
      "metadata": {
        "colab": {
          "base_uri": "https://localhost:8080/"
        },
        "id": "NHmPQ5IPnM-3",
        "outputId": "f554e002-4154-471b-f3f9-367e789fadac"
      },
      "execution_count": null,
      "outputs": [
        {
          "output_type": "execute_result",
          "data": {
            "text/plain": [
              "(array([0, 8]), array([0, 7], dtype=uint8), array([0, 8], dtype=uint8))"
            ]
          },
          "metadata": {},
          "execution_count": 40
        }
      ]
    },
    {
      "cell_type": "code",
      "source": [
        "XG3=np.concatenate((X7,X8,X14)) # here we combine the augmented samples with the original samples: eg. rootoriginal.np  + rootaugmented.np\n",
        "yG3=np.concatenate((y7,y8,y14))"
      ],
      "metadata": {
        "id": "0J9paSmcfaEF"
      },
      "execution_count": null,
      "outputs": []
    },
    {
      "cell_type": "code",
      "source": [
        "np.unique(yG3)"
      ],
      "metadata": {
        "colab": {
          "base_uri": "https://localhost:8080/"
        },
        "id": "j7KXJVtzwOtM",
        "outputId": "64f0c1b3-c260-466a-9c07-8a847702eeab"
      },
      "execution_count": null,
      "outputs": [
        {
          "output_type": "execute_result",
          "data": {
            "text/plain": [
              "array([0, 7, 8])"
            ]
          },
          "metadata": {},
          "execution_count": 79
        }
      ]
    },
    {
      "cell_type": "code",
      "source": [
        "# Save XG1, yG1, XG2, yG2, XG3, yG3\n",
        "np.save('/content/drive/MyDrive/VideoFrames/DS/efpn_DecAug/XG3.npy',XG3)\n",
        "np.save('/content/drive/MyDrive/VideoFrames/DS/efpn_DecAug/yG3.npy',yG3)"
      ],
      "metadata": {
        "id": "tviH3XgmwQ2X"
      },
      "execution_count": null,
      "outputs": []
    },
    {
      "cell_type": "code",
      "source": [
        "np.unique(yG2)"
      ],
      "metadata": {
        "colab": {
          "base_uri": "https://localhost:8080/"
        },
        "id": "eDtQSD3nz94Z",
        "outputId": "2799b630-7c63-43e1-f225-778ca4e2b548"
      },
      "execution_count": null,
      "outputs": [
        {
          "output_type": "execute_result",
          "data": {
            "text/plain": [
              "array([0, 4, 5, 6])"
            ]
          },
          "metadata": {},
          "execution_count": 54
        }
      ]
    },
    {
      "cell_type": "code",
      "source": [
        "XG1=np.load('/content/drive/MyDrive/VideoFrames/DS/efpn_DecAug/AugmentedGroups/XG1.npy')\n",
        "yG1=np.load('/content/drive/MyDrive/VideoFrames/DS/efpn_DecAug/AugmentedGroups/yG1.npy')\n"
      ],
      "metadata": {
        "id": "Me4pJnZaLlud"
      },
      "execution_count": null,
      "outputs": []
    },
    {
      "cell_type": "code",
      "source": [
        "#@title Mapping classes/ For Class Decomposition\n",
        "# Create mappings to global classes\n",
        "#dec_mapping_G1 = {0: 0, 1: 1, 2: 2, 3: 3}  # G1 is in the correct map, no need to run this\n",
        "dec_mapping_G2 = { 0: 0, 4: 1, 5: 2, 6:3} #G2 for training\n",
        "dec_mapping_G3 = { 0: 0, 7: 1, 8: 2} #G3 for training]\n",
        "\n",
        "# Map y using the defined mappings\n",
        "#map_labels_G1 = np.vectorize(lambda label: dec_mapping_G1[label])\n",
        "yG2_ = np.vectorize(lambda label: dec_mapping_G2[label])\n",
        "yG3_ = np.vectorize(lambda label: dec_mapping_G3[label])"
      ],
      "metadata": {
        "id": "JUW9GJVIQtc5"
      },
      "execution_count": null,
      "outputs": []
    },
    {
      "cell_type": "code",
      "source": [
        "np.unique(yG3_)"
      ],
      "metadata": {
        "colab": {
          "base_uri": "https://localhost:8080/"
        },
        "id": "_1UMBNAh0iS3",
        "outputId": "bdcff32b-30df-450c-df2f-d7a6362d9c68"
      },
      "execution_count": null,
      "outputs": [
        {
          "output_type": "execute_result",
          "data": {
            "text/plain": [
              "array([0, 1, 2])"
            ]
          },
          "metadata": {},
          "execution_count": 48
        }
      ]
    },
    {
      "cell_type": "code",
      "source": [
        "#@title Training the models on  4 classes dataset\n",
        "X_datas, y_datas = shuffle(XG1, yG1, random_state=10) # Do the same for XG2, yG2_ and XG3, yG3_\n",
        "#all\n",
        "numClasses=4\n",
        "train_masks_cat = to_categorical(y_datas, num_classes=numClasses)\n",
        "y_train_cat = train_masks_cat.reshape((y_datas.shape[0], y_datas.shape[1], y_datas.shape[2], numClasses))"
      ],
      "metadata": {
        "id": "vq_n1JdBhszT"
      },
      "execution_count": null,
      "outputs": []
    },
    {
      "cell_type": "code",
      "execution_count": null,
      "metadata": {
        "id": "Kz4-PVflp9ui"
      },
      "outputs": [],
      "source": [
        "#@title Dataset Normalization\n",
        "def normalize(input_image):\n",
        "    input_image = tf.cast(input_image, tf.float32) / 255.0\n",
        "    return input_image\n",
        "X_datas_=normalize(X_datas)"
      ]
    },
    {
      "cell_type": "code",
      "source": [
        "samples_train = int(0.7 * len(X_datas_))\n",
        "samples_val = int(0.15 * len(X_datas_))\n",
        "\n",
        "X_train = X_datas_[:samples_train]\n",
        "y_train = y_train_cat[:samples_train]\n",
        "\n",
        "X_val = X_datas_[samples_train:samples_train + samples_val]\n",
        "y_val = y_train_cat[samples_train:samples_train + samples_val]\n",
        "# The test dataset should be only real, not augmented data\n",
        "X_test1 = X_datas_[samples_train + samples_val:]\n",
        "y_test1 = y_train_cat[samples_train + samples_val:]"
      ],
      "metadata": {
        "id": "gyHNJBgOiDBn"
      },
      "execution_count": null,
      "outputs": []
    },
    {
      "cell_type": "code",
      "execution_count": null,
      "metadata": {
        "id": "trpJ73h46rwF"
      },
      "outputs": [],
      "source": [
        "#@title  Model Training and Evaluation\n",
        "filepath='/content/drive/MyDrive/best.h5'"
      ]
    },
    {
      "cell_type": "code",
      "execution_count": null,
      "metadata": {
        "id": "vQQkRpux6ybH"
      },
      "outputs": [],
      "source": [
        "# Load the TensorBoard notebook extension\n",
        "%load_ext tensorboard\n",
        "logdir = os.path.join(\"logs\", datetime.datetime.now().strftime(\"%Y%m%d-%H%M%S\"))"
      ]
    },
    {
      "cell_type": "code",
      "execution_count": null,
      "metadata": {
        "id": "PcPxchQH6wXS"
      },
      "outputs": [],
      "source": [
        "my_callbacks=[\n",
        "              tf.keras.callbacks.EarlyStopping(patience=10),\n",
        "              tf.keras.callbacks.ModelCheckpoint(\n",
        "                   filepath,save_best_only=True,monitor='val_loss'),\n",
        "                  tf.keras.callbacks.TensorBoard(logdir, histogram_freq=1)]"
      ]
    },
    {
      "cell_type": "code",
      "execution_count": null,
      "metadata": {
        "id": "3laV4tEpBrM5"
      },
      "outputs": [],
      "source": [
        "%tensorboard --logdir log"
      ]
    },
    {
      "cell_type": "code",
      "execution_count": null,
      "metadata": {
        "id": "NQXmrDr82SUJ"
      },
      "outputs": [],
      "source": [
        "#Training EFPN : Do the same for modelG2 and modelG3\n",
        "history=modelG1.fit(x=[X_train],y=y_train,epochs=60,validation_data=([X_val], y_val),batch_size=5,callbacks=my_callbacks)"
      ]
    },
    {
      "cell_type": "code",
      "execution_count": null,
      "metadata": {
        "colab": {
          "base_uri": "https://localhost:8080/",
          "height": 198
        },
        "id": "Otfa5eajHGrh",
        "outputId": "cf301f58-b18e-495b-9ae2-5ba566fe6b74",
        "collapsed": true
      },
      "outputs": [
        {
          "output_type": "error",
          "ename": "NameError",
          "evalue": "name 'modelG1' is not defined",
          "traceback": [
            "\u001b[0;31m---------------------------------------------------------------------------\u001b[0m",
            "\u001b[0;31mNameError\u001b[0m                                 Traceback (most recent call last)",
            "\u001b[0;32m<ipython-input-1-044f23edd177>\u001b[0m in \u001b[0;36m<cell line: 0>\u001b[0;34m()\u001b[0m\n\u001b[1;32m      1\u001b[0m \u001b[0;31m# Save the model\u001b[0m\u001b[0;34m\u001b[0m\u001b[0;34m\u001b[0m\u001b[0m\n\u001b[0;32m----> 2\u001b[0;31m \u001b[0mmodelG1\u001b[0m\u001b[0;34m.\u001b[0m\u001b[0msave\u001b[0m\u001b[0;34m(\u001b[0m\u001b[0;34m'/content/drive/MyDrive/VideoFrames/DS/efpn_DecAug/Models/EFPNFeb7_G1.h5'\u001b[0m\u001b[0;34m)\u001b[0m\u001b[0;34m\u001b[0m\u001b[0;34m\u001b[0m\u001b[0m\n\u001b[0m\u001b[1;32m      3\u001b[0m \u001b[0;31m#modelG2.save('/content/drive/MyDrive/VideoFrames/DS/efpn_DecAug/Models/EFPNFeb7_G2.h5')\u001b[0m\u001b[0;34m\u001b[0m\u001b[0;34m\u001b[0m\u001b[0m\n\u001b[1;32m      4\u001b[0m \u001b[0;31m#modelG3.save('/content/drive/MyDrive/VideoFrames/DS/efpn_DecAug/Models/EFPNFeb7_G3.h5')\u001b[0m\u001b[0;34m\u001b[0m\u001b[0;34m\u001b[0m\u001b[0m\n",
            "\u001b[0;31mNameError\u001b[0m: name 'modelG1' is not defined"
          ]
        }
      ],
      "source": [
        "# Save the model\n",
        "modelG1.save('/content/drive/MyDrive/VideoFrames/DS/efpn_DecAug/Models/EFPNFeb7_G1.h5')\n",
        "#modelG2.save('/content/drive/MyDrive/VideoFrames/DS/efpn_DecAug/Models/EFPNFeb7_G2.h5')\n",
        "#modelG3.save('/content/drive/MyDrive/VideoFrames/DS/efpn_DecAug/Models/EFPNFeb7_G3.h5')"
      ]
    },
    {
      "cell_type": "code",
      "source": [
        "from tensorflow.keras.models import load_model\n",
        "modelG1 = load_model(\"/content/drive/MyDrive/VideoFrames/DS/efpn_DecAug/AugmentedGroups/EFPNFeb7_G1.h5\", compile=False)\n",
        "modelG2 = load_model(\"/content/drive/MyDrive/VideoFrames/DS/efpn_DecAug/Models/EFPNFeb7_G2.h5\", compile=False)\n",
        "modelG3 = load_model(\"/content/drive/MyDrive/VideoFrames/DS/efpn_DecAug/Models/EFPNFeb7_G3.h5\", compile=False)\n"
      ],
      "metadata": {
        "id": "K01xPmUrF-r5"
      },
      "execution_count": null,
      "outputs": []
    },
    {
      "cell_type": "markdown",
      "source": [
        "Ensemble the models:\n",
        "\n",
        "1. Predict using each model\n",
        "2. Remap predictions to the global class space\n",
        "3. Convert predictions to probabilities (if using softmax outputs)\n",
        "4. Merge all models’ outputs into one unified prediction vector\n",
        "5. Select the class with the highest probability as the final prediction\n"
      ],
      "metadata": {
        "id": "RJn31KCxIFG1"
      }
    },
    {
      "cell_type": "code",
      "source": [
        "y_predict1 = modelG1.predict([X_test1])\n",
        "y_predict2 = modelG2.predict([X_test2])\n",
        "y_predict3 = modelG3.predict([X_test3])\n",
        "\n",
        "y_predict_1 = np.argmax(y_predict1, axis=-1)\n",
        "y_predict_2 = np.argmax(y_predict2, axis=-1)\n",
        "y_predict_3 = np.argmax(y_predict3, axis=-1)\n"
      ],
      "metadata": {
        "id": "9UTYHEe0EaST"
      },
      "execution_count": null,
      "outputs": []
    },
    {
      "cell_type": "code",
      "source": [
        "#y_predict_2=np.load('/content/drive/MyDrive/VideoFrames/DS/efpn_DecAug/y_predict_G2.npy')\n",
        "#y_predict_3=np.load('/content/drive/MyDrive/VideoFrames/DS/efpn_DecAug/y_predict_G3.npy')\n",
        "#X_test2=np.load('/content/drive/MyDrive/VideoFrames/DS/efpn_DecAug/y_test_G2.npy')\n",
        "#X_test3=np.load('/content/drive/MyDrive/VideoFrames/DS/efpn_DecAug/y_test_G3.npy')\n",
        "#y_predict_1=np.load('/content/y_predict_G1.npy')\n",
        "#X_test1=np.load('/content/y_test_G1.npy')"
      ],
      "metadata": {
        "id": "3g0ljCCtGr5A"
      },
      "execution_count": 15,
      "outputs": []
    },
    {
      "cell_type": "code",
      "source": [
        "# Create mappings to global classes\n",
        "ensemble_mapping_G1 = {0: 0, 1: 1, 2: 2, 3: 3}  # G1 for classes [0, 1, 2, 3]\n",
        "ensemble_mapping_G2 = {0: 0, 1: 4, 2: 5, 3: 6}  # G2 for classes [0, 4, 5, 6]\n",
        "ensemble_mapping_G3 = {0:0, 1:7, 2: 8}              # G3 for classes [7, 8]\n"
      ],
      "metadata": {
        "id": "IhHljsY9Lak0"
      },
      "execution_count": 45,
      "outputs": []
    },
    {
      "cell_type": "code",
      "source": [
        "# Map predictions using the defined mappings\n",
        "#map_labels_G1 = np.vectorize(lambda label: ensemble_mapping_G1[label])\n",
        "map_labels_G2 = np.vectorize(lambda label: ensemble_mapping_G2[label])\n",
        "map_labels_G3 = np.vectorize(lambda label: ensemble_mapping_G3[label])\n",
        "\n",
        "#y_predict_1_mapped = map_labels_G1(y_predict_1)\n",
        "y_predict_2_mapped = map_labels_G2(y_predict_2)\n",
        "y_predict_3_mapped = map_labels_G3(y_predict_3)\n"
      ],
      "metadata": {
        "id": "OmUtzufEJibT"
      },
      "execution_count": 21,
      "outputs": []
    },
    {
      "cell_type": "code",
      "source": [
        "#testing\n",
        "y_test_2_mapped = map_labels_G2(X_test2)\n",
        "y_test_3_mapped = map_labels_G3(X_test3)"
      ],
      "metadata": {
        "id": "c7EqC5-qJ7KV"
      },
      "execution_count": 27,
      "outputs": []
    },
    {
      "cell_type": "code",
      "source": [
        "phase1_prediction=np.concatenate((y_predict_1, y_predict_2_mapped, y_predict_3_mapped))"
      ],
      "metadata": {
        "id": "bhF_1ZyZLfO2"
      },
      "execution_count": 47,
      "outputs": []
    },
    {
      "cell_type": "code",
      "source": [
        "phase1_test=np.concatenate((X_test1,y_test_2_mapped, y_test_3_mapped))"
      ],
      "metadata": {
        "id": "uyo3onN9Jwlu"
      },
      "execution_count": 48,
      "outputs": []
    },
    {
      "cell_type": "markdown",
      "source": [],
      "metadata": {
        "id": "HzVU3CKgKFB_"
      }
    },
    {
      "cell_type": "code",
      "source": [
        "np.unique(phase1_prediction)"
      ],
      "metadata": {
        "id": "D8g-jpidJysj"
      },
      "execution_count": null,
      "outputs": []
    },
    {
      "cell_type": "code",
      "source": [
        "phase1_prediction.shape"
      ],
      "metadata": {
        "colab": {
          "base_uri": "https://localhost:8080/"
        },
        "id": "RKjm0p3oLqCS",
        "outputId": "8aa22928-7164-4b10-8e58-485db3c13b41"
      },
      "execution_count": 50,
      "outputs": [
        {
          "output_type": "execute_result",
          "data": {
            "text/plain": [
              "(1695, 128, 128)"
            ]
          },
          "metadata": {},
          "execution_count": 50
        }
      ]
    },
    {
      "cell_type": "code",
      "source": [
        "#Enseble Learning: 2\n",
        "def ensemble_predict(models, x):\n",
        "    preds = [model.predict(x) for model in models]\n",
        "    # shape: (num_models, num_samples, num_classes)\n",
        "    preds_stack = np.stack(preds, axis=0)\n",
        "    # Average the predictions\n",
        "    avg_preds = np.mean(preds_stack, axis=0)\n",
        "    # Get the class with the highest probability\n",
        "    return np.argmax(avg_preds, axis=-1)\n"
      ],
      "metadata": {
        "id": "kAq-nHiQjNJN"
      },
      "execution_count": null,
      "outputs": []
    },
    {
      "cell_type": "code",
      "source": [
        "model = [modelG1, modelG2, modelG3]\n",
        "predictions = ensemble_predict(model, X_testall)"
      ],
      "metadata": {
        "colab": {
          "base_uri": "https://localhost:8080/"
        },
        "id": "jeWvMPrKjiH6",
        "outputId": "5305d466-bb94-4a40-dbdb-60a91c4101b8"
      },
      "execution_count": null,
      "outputs": [
        {
          "output_type": "stream",
          "name": "stdout",
          "text": [
            "\u001b[1m15/15\u001b[0m \u001b[32m━━━━━━━━━━━━━━━━━━━━\u001b[0m\u001b[37m\u001b[0m \u001b[1m10s\u001b[0m 626ms/step\n",
            "\u001b[1m15/15\u001b[0m \u001b[32m━━━━━━━━━━━━━━━━━━━━\u001b[0m\u001b[37m\u001b[0m \u001b[1m9s\u001b[0m 594ms/step\n",
            "\u001b[1m15/15\u001b[0m \u001b[32m━━━━━━━━━━━━━━━━━━━━\u001b[0m\u001b[37m\u001b[0m \u001b[1m9s\u001b[0m 607ms/step\n"
          ]
        }
      ]
    },
    {
      "cell_type": "markdown",
      "metadata": {
        "id": "8y84TRIyCuED"
      },
      "source": [
        "# Metrics- Model Evaluation\n",
        "\n"
      ]
    },
    {
      "cell_type": "code",
      "execution_count": 34,
      "metadata": {
        "id": "NNXOvxWrHJvt"
      },
      "outputs": [],
      "source": [
        "# Frequency Weighted Intersection over Union\n",
        "def calculate_fwiou(predicted_mask, ground_truth_mask, class_frequencies):\n",
        "\n",
        "    predicted_flat = K.flatten(predicted_mask)\n",
        "    ground_truth_flat = K.flatten(ground_truth_mask)\n",
        "\n",
        "    unique_classes = np.unique(ground_truth_flat)\n",
        "\n",
        "    intersection_sum = 0\n",
        "    union_sum = 0\n",
        "\n",
        "    for class_val in unique_classes:\n",
        "        class_mask = K.equal(ground_truth_flat, class_val)\n",
        "        intersection = K.sum(K.cast(predicted_flat[class_mask] == class_val, K.floatx()))\n",
        "        union = K.sum(K.cast((predicted_flat == class_val) | class_mask, K.floatx()))\n",
        "        frequency = class_frequencies[class_val]\n",
        "\n",
        "        intersection_sum += frequency * intersection\n",
        "        union_sum += frequency * union\n",
        "\n",
        "    fwiou = intersection_sum / union_sum\n",
        "\n",
        "    return fwiou\n"
      ]
    },
    {
      "cell_type": "code",
      "execution_count": 51,
      "metadata": {
        "id": "yAbynxSZIU9P"
      },
      "outputs": [],
      "source": [
        "class_frequencies = {0: 0.0,\n",
        "                    1: 1, # crack\n",
        "                     2: 1, # Hole\n",
        "                     3: 1, #root\n",
        "                     4: 0.1622,#deformation\n",
        "                     5:0.7100 , #fracture\n",
        "                     6: 0.3518, #erosion\n",
        "                     7: 0.6419, #joints\n",
        "                     8: 0.5419 #loose gasket\n",
        "                     }"
      ]
    },
    {
      "cell_type": "code",
      "source": [
        "class_frequencies = {0: 0.0,\n",
        "\n",
        "                     1: 0.6419, #joints\n",
        "                     2: 0.5419 #loose gasket\n",
        "\n",
        "                     }"
      ],
      "metadata": {
        "id": "d2ErfPUZRSvU"
      },
      "execution_count": null,
      "outputs": []
    },
    {
      "cell_type": "code",
      "execution_count": 52,
      "metadata": {
        "colab": {
          "base_uri": "https://localhost:8080/"
        },
        "id": "pQCaw_jeB62m",
        "outputId": "1dce9d28-a8b7-4b0f-9c9c-27787e0ad43d"
      },
      "outputs": [
        {
          "output_type": "stream",
          "name": "stdout",
          "text": [
            "FWIoU: 0.889748752117157\n"
          ]
        }
      ],
      "source": [
        "\n",
        "fwiou = calculate_fwiou(phase1_prediction, phase1_test, class_frequencies)#0.7686044573783875\n",
        "print(f\"FWIoU: {fwiou}\")"
      ]
    },
    {
      "cell_type": "code",
      "execution_count": 53,
      "metadata": {
        "colab": {
          "base_uri": "https://localhost:8080/"
        },
        "id": "hXxvrqe8cHMH",
        "outputId": "cee76993-2d6d-497a-cb50-792876364ace"
      },
      "outputs": [
        {
          "output_type": "stream",
          "name": "stdout",
          "text": [
            "F1 Score for class 0: 0.9882517585737483\n",
            "F1 Score for class 1: 0.7536267744389153\n",
            "F1 Score for class 2: 0.9855311033332801\n",
            "F1 Score for class 3: 0.9496832123652673\n",
            "F1 Score for class 4: 0.8926243508566105\n",
            "F1 Score for class 5: 0.7622238912319217\n",
            "F1 Score for class 6: 0.9534337639056818\n",
            "F1 Score for class 7: 0.8641905152243963\n",
            "F1 Score for class 8: 0.9258274411960846\n",
            "Average f1_scores (including class 0): 0.8972658679028783\n",
            "Average F1 (excluding class 0): 0.8858926315690197\n"
          ]
        }
      ],
      "source": [
        "# Calculate the F1 score for each unique class separately\n",
        "y_true_flat = phase1_test.flatten()\n",
        "y_pred_flat = phase1_prediction.flatten()\n",
        "\n",
        "unique_classes = np.unique(np.concatenate([y_true_flat, y_pred_flat]))\n",
        "f1_scores = {}\n",
        "for class_value in unique_classes:\n",
        "    binary_y_true = (y_true_flat == class_value)\n",
        "    binary_y_pred = (y_pred_flat == class_value)\n",
        "    f1_scores[class_value] = f1_score(binary_y_true, binary_y_pred)\n",
        "\n",
        "# F1 scores for each class\n",
        "for class_value, f1_score_value in f1_scores.items():\n",
        "    print(f\"F1 Score for class {class_value}: {f1_score_value}\")\n",
        "# average f1_scores for all classes\n",
        "average_F1_all = np.mean(list(f1_scores.values()))\n",
        "print(f\"Average f1_scores (including class 0): {average_F1_all}\")\n",
        "# average f1_scores excluding class 0\n",
        "F1_scores_without_class_0 = {k: v for k, v in f1_scores.items() if k != 0}\n",
        "average_F1_without_class_0 = np.mean(list(F1_scores_without_class_0.values()))\n",
        "print(f\"Average F1 (excluding class 0): {average_F1_without_class_0}\")"
      ]
    },
    {
      "cell_type": "code",
      "execution_count": 54,
      "metadata": {
        "colab": {
          "base_uri": "https://localhost:8080/"
        },
        "id": "5-Rkmi71RAFk",
        "outputId": "90a6ea80-841d-4528-fd69-44244d601026"
      },
      "outputs": [
        {
          "output_type": "stream",
          "name": "stdout",
          "text": [
            "IoU for class 0: 0.9767763541457894\n",
            "IoU for class 1: 0.6046557796519194\n",
            "IoU for class 2: 0.9714749329146296\n",
            "IoU for class 3: 0.9041874066432016\n",
            "IoU for class 4: 0.8060718614745593\n",
            "IoU for class 5: 0.6158011015340573\n",
            "IoU for class 6: 0.911011392326015\n",
            "IoU for class 7: 0.7608586887220176\n",
            "IoU for class 8: 0.8618982430783633\n",
            "Average IoU (including class 0): 0.8236373067211724\n",
            "Average IoU (excluding class 0): 0.8044949257930953\n"
          ]
        }
      ],
      "source": [
        "# Calculate the IoU for each unique class separately\n",
        "y_true_flat = phase1_test.flatten()\n",
        "y_pred_flat = phase1_prediction.flatten()\n",
        "unique_classes = np.unique(np.concatenate([y_true_flat, y_pred_flat]))\n",
        "iou_scores = {}\n",
        "for class_value in unique_classes:\n",
        "    intersection = np.sum((y_true_flat == class_value) & (y_pred_flat == class_value))\n",
        "    union = np.sum((y_true_flat == class_value) | (y_pred_flat == class_value))\n",
        "\n",
        "    iou_scores[class_value] = intersection / union\n",
        "# IoU scores for each class\n",
        "for class_value, iou_score in iou_scores.items():\n",
        "    print(f\"IoU for class {class_value}: {iou_score}\")\n",
        "\n",
        "# average IoU for all classes\n",
        "average_iou_all = np.mean(list(iou_scores.values()))\n",
        "print(f\"Average IoU (including class 0): {average_iou_all}\")\n",
        "\n",
        "# average IoU excluding class 0\n",
        "iou_scores_without_class_0 = {k: v for k, v in iou_scores.items() if k != 0}\n",
        "average_iou_without_class_0 = np.mean(list(iou_scores_without_class_0.values()))\n",
        "print(f\"Average IoU (excluding class 0): {average_iou_without_class_0}\")\n"
      ]
    },
    {
      "cell_type": "code",
      "execution_count": 55,
      "metadata": {
        "id": "BFmmw_4k-FL0"
      },
      "outputs": [],
      "source": [
        "\n",
        "def calculate_pixel_acc(y_true, y_pred):\n",
        "    assert y_true.shape == y_pred.shape, \"Input arrays must have the same shape.\"\n",
        "\n",
        "    total_pixels = np.prod(y_true.shape)\n",
        "    correct_pixels = np.sum(y_true == y_pred)\n",
        "\n",
        "    pixel_acc = correct_pixels / total_pixels\n",
        "\n",
        "    return pixel_acc\n"
      ]
    },
    {
      "cell_type": "code",
      "execution_count": 56,
      "metadata": {
        "id": "Pcz1hZLA-GDX",
        "colab": {
          "base_uri": "https://localhost:8080/"
        },
        "outputId": "94c1f68b-ed9b-43f5-91b5-3f5458c2ee9b"
      },
      "outputs": [
        {
          "output_type": "stream",
          "name": "stdout",
          "text": [
            "Pixel Accuracy: 0.9800943290237832\n"
          ]
        }
      ],
      "source": [
        "pixel_acc = calculate_pixel_acc(phase1_test, phase1_prediction)\n",
        "print(\"Pixel Accuracy:\", pixel_acc)"
      ]
    },
    {
      "cell_type": "code",
      "execution_count": 57,
      "metadata": {
        "id": "2QsA97BsFbjy",
        "colab": {
          "base_uri": "https://localhost:8080/"
        },
        "outputId": "84939529-07d2-4e1d-dc2e-16e350cbd7e5"
      },
      "outputs": [
        {
          "output_type": "execute_result",
          "data": {
            "text/plain": [
              "0.8794116655491091"
            ]
          },
          "metadata": {},
          "execution_count": 57
        }
      ],
      "source": [
        "def calculate_balanced_accuracy(y_true, y_pred):\n",
        "    unique_classes = np.unique(y_true)\n",
        "    num_classes = 9\n",
        "\n",
        "\n",
        "    class_accuracies = []\n",
        "\n",
        "    for cls in unique_classes:\n",
        "        true_mask = (y_true == cls)\n",
        "        pred_mask = (y_pred == cls)\n",
        "\n",
        "        class_accuracy = np.sum(true_mask & pred_mask) / np.sum(true_mask)\n",
        "        class_accuracies.append(class_accuracy)\n",
        "\n",
        "    balanced_acc = np.mean(class_accuracies)\n",
        "    return balanced_acc\n",
        "calculate_balanced_accuracy(phase1_test, phase1_prediction)"
      ]
    },
    {
      "cell_type": "code",
      "source": [
        "phase1_test, phase1_prediction"
      ],
      "metadata": {
        "id": "_oOwj5iHLFBL"
      },
      "execution_count": null,
      "outputs": []
    },
    {
      "cell_type": "code",
      "execution_count": 58,
      "metadata": {
        "id": "FcBIcXCtFvsC",
        "colab": {
          "base_uri": "https://localhost:8080/"
        },
        "outputId": "cc4c36da-6b60-42e9-c3d9-90a1a8dc67f2"
      },
      "outputs": [
        {
          "output_type": "execute_result",
          "data": {
            "text/plain": [
              "0.8894304779159938"
            ]
          },
          "metadata": {},
          "execution_count": 58
        }
      ],
      "source": [
        "\n",
        "#  Matthews correlation coefficient (MCC)\n",
        "num_samples, height, width = phase1_test.shape\n",
        "num_classes = 9\n",
        "\n",
        "# Reshape the arrays to 1D (num_samples * height * width,)\n",
        "y_true_flat = phase1_test.ravel()\n",
        "y_pred_flat = phase1_prediction.ravel()\n",
        "\n",
        "# Calculate  MCC for each class\n",
        "mcc_scores = []\n",
        "for class_idx in range(num_classes):\n",
        "    class_true = (y_true_flat == class_idx)\n",
        "    class_pred = (y_pred_flat == class_idx)\n",
        "    mcc = matthews_corrcoef(class_true, class_pred)\n",
        "    mcc_scores.append(mcc)\n",
        "\n",
        "# Calculate  average MCC across all classes\n",
        "mean_mcc = np.mean(mcc_scores)\n",
        "mean_mcc"
      ]
    },
    {
      "cell_type": "code",
      "source": [
        "#@title Visual Results"
      ],
      "metadata": {
        "id": "lkqIo2sO7Oz5"
      },
      "execution_count": null,
      "outputs": []
    },
    {
      "cell_type": "code",
      "execution_count": 59,
      "metadata": {
        "id": "1_mfO3jGEMgW"
      },
      "outputs": [],
      "source": [
        "# Define the mapping of object colors to RGB values based on NASSCO’S PIPELINE Structural Color Coding\n",
        "color_map = {\n",
        "    0: [0, 0, 0],        # Background color\n",
        "    1: [192, 209, 249],  # crack\n",
        "    2: [191, 191, 191],  # hole\n",
        "    3: [254, 255, 126],  # root\n",
        "    4: [247, 205, 160],  # Deformation\n",
        "    5:[246,202,255],  # Fracture\n",
        "    6: [139, 2, 223],  # Erosion\n",
        "    7: [188, 252, 176],  # joints\n",
        "    8: [243,172,0] #loose_gasket\n",
        "\n",
        "}"
      ]
    },
    {
      "cell_type": "code",
      "execution_count": 60,
      "metadata": {
        "colab": {
          "base_uri": "https://localhost:8080/",
          "height": 424
        },
        "id": "NKUytU2mFN4B",
        "outputId": "21d7363a-1171-47b7-c8e2-c416a0db4a59"
      },
      "outputs": [
        {
          "output_type": "stream",
          "name": "stdout",
          "text": [
            "ALlFIveFeatuesofHaar 1\n"
          ]
        },
        {
          "output_type": "display_data",
          "data": {
            "text/plain": [
              "<Figure size 640x480 with 1 Axes>"
            ],
            "image/png": "[encoded data removed]"
          },
          "metadata": {}
        }
      ],
      "source": [
        "#Sampels: 10, 20, 26, 50, 57, 88, 83\n",
        "#samples: 199, 78,1,3,26, 50,88\n",
        "i=1\n",
        "print('ALlFIveFeatuesofHaar',i)\n",
        "image = phase1_prediction[i]\n",
        "# Map the object colors to RGB colors\n",
        "rgb_imageP = np.zeros((image.shape[0], image.shape[1], 3), dtype=np.uint8)\n",
        "for i in range(image.shape[0]):\n",
        "    for j in range(image.shape[1]):\n",
        "        rgb_imageP[i, j] = color_map[image[i, j]]\n",
        "plt.axis('off')\n",
        "plt.imshow(rgb_imageP);"
      ]
    },
    {
      "cell_type": "code",
      "execution_count": 63,
      "metadata": {
        "colab": {
          "base_uri": "https://localhost:8080/",
          "height": 866
        },
        "id": "6oTX3nq9nbzI",
        "outputId": "f4fad68b-ffb3-4af6-a4df-83b8f4b6d65d"
      },
      "outputs": [
        {
          "output_type": "stream",
          "name": "stdout",
          "text": [
            "Real: 1\n",
            "[0 1]\n"
          ]
        },
        {
          "output_type": "display_data",
          "data": {
            "text/plain": [
              "<Figure size 640x480 with 1 Axes>"
            ],
            "image/png": "[encoded data removed]"
          },
          "metadata": {}
        },
        {
          "output_type": "stream",
          "name": "stdout",
          "text": [
            " Ground truth: 127\n"
          ]
        },
        {
          "output_type": "execute_result",
          "data": {
            "text/plain": [
              "<matplotlib.image.AxesImage at 0x7ee1518ed2d0>"
            ]
          },
          "metadata": {},
          "execution_count": 63
        },
        {
          "output_type": "display_data",
          "data": {
            "text/plain": [
              "<Figure size 640x480 with 1 Axes>"
            ],
            "image/png": "[encoded data removed]"
          },
          "metadata": {}
        }
      ],
      "source": [
        "i=1\n",
        "image = phase1_test[i]\n",
        "print('Real:',i)\n",
        "plt.axis('off')\n",
        "#plt.imshow(X_test1[i])\n",
        "print(np.unique(phase1_test[i]))\n",
        "plt.show()\n",
        "# Map the object colors to RGB colors\n",
        "rgb_image = np.zeros((image.shape[0], image.shape[1], 3), dtype=np.uint8)\n",
        "for i in range(image.shape[0]):\n",
        "    for j in range(image.shape[1]):\n",
        "        rgb_image[i, j] = color_map[image[i, j]]\n",
        "print(' Ground truth:',i)\n",
        "plt.axis('off')\n",
        "plt.imshow(rgb_image)"
      ]
    },
    {
      "cell_type": "code",
      "execution_count": null,
      "metadata": {
        "id": "sAsOcg9HBXrx"
      },
      "outputs": [],
      "source": [
        "label_mapping = {\n",
        "    'background': 0,\n",
        "    'crack': 1,\n",
        "    'spiral_crack': 1,\n",
        "    'hole': 2,\n",
        "    'root': 3,\n",
        "    'roots': 3,\n",
        "    'Pipe_Deformed': 4,\n",
        "    'deformation': 4,\n",
        "     'fracture': 5,\n",
        "    'erosion': 6,\n",
        "     'encrustation': 6,\n",
        "    'joint': 7,'joints':7,\n",
        "    'joint_offset':7,'offset':7,\n",
        "     'loose_gasket':8\n",
        "}\n"
      ]
    }
  ],
  "metadata": {
    "accelerator": "TPU",
    "colab": {
      "gpuType": "V28",
      "machine_shape": "hm",
      "provenance": [],
      "mount_file_id": "17a0VzPVpgScHw1vJoaDGm-Iv7ulDxlpJ",
      "authorship_tag": "ABX9TyM/H287okC9duuLuT3yD1ub",
      "include_colab_link": true
    },
    "kernelspec": {
      "display_name": "Python 3",
      "name": "python3"
    },
    "language_info": {
      "name": "python"
    }
  },
  "nbformat": 4,
  "nbformat_minor": 0
}