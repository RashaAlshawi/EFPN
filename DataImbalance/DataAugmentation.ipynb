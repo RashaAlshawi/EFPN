{
  "cells": [
    {
      "cell_type": "markdown",
      "metadata": {
        "id": "view-in-github",
        "colab_type": "text"
      },
      "source": [
        "<a href=\"https://colab.research.google.com/github/RashaAlshawi/EFPN/blob/main/DataImbalance/DataAugmentation.ipynb\" target=\"_parent\"><img src=\"https://colab.research.google.com/assets/colab-badge.svg\" alt=\"Open In Colab\"/></a>"
      ]
    },
    {
      "cell_type": "code",
      "source": [
        "import cv2\n",
        "import numpy as np\n",
        "import scipy.ndimage as ndi\n",
        "import matplotlib.pyplot as plt"
      ],
      "metadata": {
        "id": "nTgWFjTGt4mq"
      },
      "execution_count": 1,
      "outputs": []
    },
    {
      "cell_type": "code",
      "execution_count": 2,
      "metadata": {
        "colab": {
          "base_uri": "https://localhost:8080/"
        },
        "id": "J5X4Zcc1y44P",
        "outputId": "422f9222-215a-4fb6-865c-eda274952c47"
      },
      "outputs": [
        {
          "output_type": "stream",
          "name": "stdout",
          "text": [
            "Mounted at /content/drive\n"
          ]
        }
      ],
      "source": [
        "from google.colab import drive\n",
        "drive.mount('/content/drive')"
      ]
    },
    {
      "cell_type": "code",
      "execution_count": 3,
      "metadata": {
        "id": "RDYfm3Ng0K9S"
      },
      "outputs": [],
      "source": [
        "#CHANGE WITH YOUR DATA\n",
        "X_P=np.load('/content/drive/MyDrive/VideoFrames/PositiveImageNew.npy')\n",
        "y_P=np.load('/content/drive/MyDrive/VideoFrames/PositivemaskNew.npy')"
      ]
    },
    {
      "cell_type": "code",
      "source": [
        "X_datas, y_datas = shuffle(X_P, y_P, random_state=10)\n",
        "\n",
        "#Data augmentation should only be applied during model training, not during testing.\n",
        "samples_train = int(0.80 * len(X_P))\n",
        "samples_val = int(0.20 * len(y_P))\n",
        "\n",
        "# Apply data augmentation on this\n",
        "X_trainAndVal = X_datas[:samples_train]\n",
        "y_trainAndVal = y_datas[:samples_train]\n",
        "\n",
        "# Save this for testing\n",
        "X_test = X_datas[samples_train:samples_train + samples_val]\n",
        "y_test = y_datas[samples_train:samples_train + samples_val]"
      ],
      "metadata": {
        "id": "I7KA-XQV2N6s"
      },
      "execution_count": null,
      "outputs": []
    },
    {
      "cell_type": "code",
      "source": [
        "# This is to apply data augmentation on each individual class\n",
        "X8=np.load('/content/drive/MyDrive/VideoFrames/DS/loose_gasketImage.npy')\n",
        "y8=np.load('/content/drive/MyDrive/VideoFrames/DS/loose_gasketMask.npy')"
      ],
      "metadata": {
        "id": "96Ief5eQ2zEO"
      },
      "execution_count": null,
      "outputs": []
    },
    {
      "cell_type": "code",
      "source": [
        "\n",
        "def elastic_deformation(image, alpha=34, sigma=4):\n",
        "    \"\"\"Apply elastic deformation to an image.\"\"\"\n",
        "    random_state = np.random.RandomState(None)\n",
        "\n",
        "    # Create random displacement fields for x and y axes\n",
        "    shape = image.shape\n",
        "    dx = ndi.gaussian_filter((random_state.rand(*shape) * 2 - 1), sigma, mode=\"constant\", cval=0)\n",
        "    dy = ndi.gaussian_filter((random_state.rand(*shape) * 2 - 1), sigma, mode=\"constant\", cval=0)\n",
        "\n",
        "    dz = np.zeros_like(dx)  # No deformation along the z-axis (for 2D images)\n",
        "\n",
        "    # Combine the displacement fields\n",
        "    dz = np.zeros_like(dx)  # No deformation along the z-axis (for 2D images)\n",
        "    def_field = np.stack((dx, dy, dz), axis=-1)\n",
        "\n",
        "    # Apply elastic deformation to the image using the displacement field\n",
        "    deformed_image = ndi.map_coordinates(image, def_field.transpose(2, 0, 1), order=1, mode='reflect')\n",
        "\n",
        "    return deformed_image"
      ],
      "metadata": {
        "id": "Vu9CMGx9qtQu"
      },
      "execution_count": 31,
      "outputs": []
    },
    {
      "cell_type": "code",
      "source": [
        "import cv2\n",
        "import numpy as np\n",
        "\n",
        "def augment_data(images, labels):\n",
        "    augmented_images = []\n",
        "    augmented_labels = []\n",
        "\n",
        "    # Ensure images are in uint8 format and channels are in the correct order\n",
        "    images = np.uint8(images)\n",
        "    labels = np.uint8(labels)\n",
        "\n",
        "    for image, label in zip(images, labels):\n",
        "        # Horizontal Flip\n",
        "        augmented_image = cv2.flip(image, 1)  # 1 for horizontal flip\n",
        "        augmented_label = cv2.flip(label, 1)  # 1 for horizontal flip\n",
        "        augmented_images.append(augmented_image)\n",
        "        augmented_labels.append(augmented_label)\n",
        "\n",
        "\n",
        "        # Gaussian Blur\n",
        "        blurred_image = cv2.GaussianBlur(image, (5, 5), 0)  # Kernel size (5, 5)\n",
        "        augmented_images.append(blurred_image)\n",
        "        augmented_labels.append(label)  # No change to label for Gaussian blur\n",
        "\n",
        "        # Color Jittering\n",
        "        brightness = np.random.uniform(0.5, 1.5)  # Random brightness factor\n",
        "        contrast = np.random.uniform(0.5, 1.5)    # Random contrast factor\n",
        "        saturation = np.random.uniform(0.5, 1.5)  # Random saturation factor\n",
        "        hue = np.random.uniform(-0.1, 0.1)       # Random hue shift\n",
        "        hsv_image = cv2.cvtColor(image, cv2.COLOR_BGR2HSV)\n",
        "        hsv_image = np.array(hsv_image, dtype=np.float64)\n",
        "        hsv_image[:, :, 2] *= brightness\n",
        "        hsv_image[:, :, 1] *= contrast\n",
        "        hsv_image[:, :, 1] = np.clip(hsv_image[:, :, 1], 0, 255)\n",
        "        hsv_image[:, :, 1] *= saturation\n",
        "        hsv_image[:, :, 1] = np.clip(hsv_image[:, :, 1], 0, 255)\n",
        "        hsv_image[:, :, 0] += hue * 180\n",
        "        hsv_image[:, :, 0] = np.clip(hsv_image[:, :, 0], 0, 180)\n",
        "        image = np.array(hsv_image, dtype=np.uint8)\n",
        "        augmented_images.append(image)\n",
        "        augmented_labels.append(label)  # No change to label for color jittering\n",
        "             # Shearing\n",
        "        shear_factor = 0.2  # Shear factor\n",
        "        shear_matrix = np.array([[1, shear_factor, 0], [0, 1, 0]])\n",
        "        sheared_image = cv2.warpAffine(image, shear_matrix, (image.shape[1], image.shape[0]))\n",
        "        sheared_label = cv2.warpAffine(label, shear_matrix, (label.shape[1], label.shape[0]))\n",
        "        augmented_images.append(sheared_image)\n",
        "        augmented_labels.append(sheared_label)\n",
        "\n",
        "        # Rotate\n",
        "        rotation_angle = 30  # in degrees\n",
        "        rotation_matrix = cv2.getRotationMatrix2D((image.shape[1] / 2, image.shape[0] / 2), rotation_angle, 1)\n",
        "        rotated_image = cv2.warpAffine(image, rotation_matrix, (image.shape[1], image.shape[0]))\n",
        "        rotated_label = cv2.warpAffine(label, rotation_matrix, (label.shape[1], label.shape[0]))\n",
        "        augmented_images.append(rotated_image)\n",
        "        augmented_labels.append(rotated_label)\n",
        "\n",
        "\n",
        "    # Rotate\n",
        "        rotation_angle1 = 50  # in degrees\n",
        "        rotation_matrix = cv2.getRotationMatrix2D((image.shape[1] / 2, image.shape[0] / 2), rotation_angle1, 1)\n",
        "        rotated_image1 = cv2.warpAffine(image, rotation_matrix, (image.shape[1], image.shape[0]))\n",
        "        rotated_label1= cv2.warpAffine(label, rotation_matrix, (label.shape[1], label.shape[0]))\n",
        "        augmented_images.append(rotated_image1)\n",
        "        augmented_labels.append(rotated_label1)\n",
        "\n",
        "  # Random Noise 2\n",
        "        mean1 = 0\n",
        "        stddev1 = 60  # Adjust standard deviation as needed\n",
        "        noise1 = np.random.normal(mean1, stddev1, image.shape).astype(np.uint8)\n",
        "        noisy_image1 = cv2.add(image, noise1)\n",
        "        augmented_images.append(noisy_image1)\n",
        "        augmented_labels.append(label)  # No change to label for random noise\n",
        "\n",
        "\n",
        "\n",
        "        # Random Crop\n",
        "        crop_height, crop_width = 100, 100  # Adjust crop size as needed\n",
        "        y_start = np.random.randint(0, image.shape[0] - crop_height)\n",
        "        x_start = np.random.randint(0, image.shape[1] - crop_width)\n",
        "        cropped_image = image[y_start:y_start+crop_height, x_start:x_start+crop_width]\n",
        "        cropped_label = label[y_start:y_start+crop_height, x_start:x_start+crop_width]\n",
        "        cropped_image = cv2.resize(cropped_image, (image.shape[1], image.shape[0]))  # Resize cropped image to match original size\n",
        "        cropped_label = cv2.resize(cropped_label, (label.shape[1], label.shape[0]))  # Resize cropped label to match original size\n",
        "        augmented_images.append(cropped_image)\n",
        "        augmented_labels.append(cropped_label)\n",
        "\n",
        "\n",
        "        # Random Noise\n",
        "        mean = 0\n",
        "        stddev = 20  # Adjust standard deviation as needed\n",
        "        noise = np.random.normal(mean, stddev, image.shape).astype(np.uint8)\n",
        "        noisy_image = cv2.add(image, noise)\n",
        "        augmented_images.append(noisy_image)\n",
        "        augmented_labels.append(label)  # No change to label for random noise\n",
        "\n",
        "\n",
        "\n",
        "    return np.array(augmented_images), np.array(augmented_labels)"
      ],
      "metadata": {
        "id": "TQxnGxe8jLk3"
      },
      "execution_count": 70,
      "outputs": []
    },
    {
      "cell_type": "code",
      "source": [
        "# For classes with high samples\n",
        "\n",
        "def augment_data(images, labels):\n",
        "    augmented_images = []\n",
        "    augmented_labels = []\n",
        "\n",
        "    # Ensure images are in uint8 format and channels are in the correct order\n",
        "    images = np.uint8(images)\n",
        "    labels = np.uint8(labels)\n",
        "\n",
        "    for image, label in zip(images, labels):\n",
        "        # Horizontal Flip\n",
        "        augmented_image = cv2.flip(image, 1)  # 1 for horizontal flip\n",
        "        augmented_label = cv2.flip(label, 1)  # 1 for horizontal flip\n",
        "        augmented_images.append(augmented_image)\n",
        "        augmented_labels.append(augmented_label)\n",
        "\n",
        "        # Color Jittering\n",
        "        brightness = np.random.uniform(0.5, 1.5)  # Random brightness factor\n",
        "        contrast = np.random.uniform(0.5, 1.5)    # Random contrast factor\n",
        "        saturation = np.random.uniform(0.5, 1.5)  # Random saturation factor\n",
        "        hue = np.random.uniform(-0.1, 0.1)       # Random hue shift\n",
        "        hsv_image = cv2.cvtColor(image, cv2.COLOR_BGR2HSV)\n",
        "        hsv_image = np.array(hsv_image, dtype=np.float64)\n",
        "        hsv_image[:, :, 2] *= brightness\n",
        "        hsv_image[:, :, 1] *= contrast\n",
        "        hsv_image[:, :, 1] = np.clip(hsv_image[:, :, 1], 0, 255)\n",
        "        hsv_image[:, :, 1] *= saturation\n",
        "        hsv_image[:, :, 1] = np.clip(hsv_image[:, :, 1], 0, 255)\n",
        "        hsv_image[:, :, 0] += hue * 180\n",
        "        hsv_image[:, :, 0] = np.clip(hsv_image[:, :, 0], 0, 180)\n",
        "        image = np.array(hsv_image, dtype=np.uint8)\n",
        "        augmented_images.append(image)\n",
        "        augmented_labels.append(label)  # No change to label for color jittering\n",
        "             # Shearing\n",
        "        shear_factor = 0.2  # Shear factor\n",
        "        shear_matrix = np.array([[1, shear_factor, 0], [0, 1, 0]])\n",
        "        sheared_image = cv2.warpAffine(image, shear_matrix, (image.shape[1], image.shape[0]))\n",
        "        sheared_label = cv2.warpAffine(label, shear_matrix, (label.shape[1], label.shape[0]))\n",
        "        augmented_images.append(sheared_image)\n",
        "        augmented_labels.append(sheared_label)\n",
        "\n",
        "        # Rotate\n",
        "        rotation_angle = 30  # in degrees\n",
        "        rotation_matrix = cv2.getRotationMatrix2D((image.shape[1] / 2, image.shape[0] / 2), rotation_angle, 1)\n",
        "        rotated_image = cv2.warpAffine(image, rotation_matrix, (image.shape[1], image.shape[0]))\n",
        "        rotated_label = cv2.warpAffine(label, rotation_matrix, (label.shape[1], label.shape[0]))\n",
        "        augmented_images.append(rotated_image)\n",
        "        augmented_labels.append(rotated_label)\n",
        "\n",
        "\n",
        "    return np.array(augmented_images), np.array(augmented_labels)"
      ],
      "metadata": {
        "id": "5xrhk5ndtFBT"
      },
      "execution_count": 56,
      "outputs": []
    },
    {
      "cell_type": "code",
      "source": [
        "augmented_images, augmented_labels = augment_data(X8, y8)"
      ],
      "metadata": {
        "id": "988AIJojioaF"
      },
      "execution_count": 92,
      "outputs": []
    },
    {
      "cell_type": "code",
      "source": [
        "augmented_images.shape, augmented_labels.shape, X8.shape, y8.shape"
      ],
      "metadata": {
        "colab": {
          "base_uri": "https://localhost:8080/"
        },
        "id": "UILbjtJlomkF",
        "outputId": "efc8953a-75d5-4ded-df0b-4b3d90c9cfcd"
      },
      "execution_count": 93,
      "outputs": [
        {
          "output_type": "execute_result",
          "data": {
            "text/plain": [
              "((936, 128, 128, 3), (936, 128, 128), (104, 128, 128, 3), (104, 128, 128))"
            ]
          },
          "metadata": {},
          "execution_count": 93
        }
      ]
    },
    {
      "cell_type": "code",
      "source": [
        "np.unique(y8), np.unique(augmented_labels)\n"
      ],
      "metadata": {
        "colab": {
          "base_uri": "https://localhost:8080/"
        },
        "id": "T662grV1rWWG",
        "outputId": "1e7d4e66-0848-4159-f67e-21c2c9b5ff44"
      },
      "execution_count": 94,
      "outputs": [
        {
          "output_type": "execute_result",
          "data": {
            "text/plain": [
              "(array([0, 8], dtype=uint8), array([0, 1, 2, 3, 4, 5, 6, 7, 8], dtype=uint8))"
            ]
          },
          "metadata": {},
          "execution_count": 94
        }
      ]
    },
    {
      "cell_type": "code",
      "source": [
        "# To make sure the classes are not chnages during adding noise\n",
        "class_mapping = { 0: 0, 1: 8, 2:8 ,3:8, 4:8,5:8, 6:8,7:8,8:8}\n",
        "map_labels = np.vectorize(lambda label: class_mapping[label])"
      ],
      "metadata": {
        "id": "FjP5D-QWrOnF"
      },
      "execution_count": 95,
      "outputs": []
    },
    {
      "cell_type": "code",
      "source": [
        "augmented_labels_=map_labels(augmented_labels)"
      ],
      "metadata": {
        "id": "0FDWEnEgrfPv"
      },
      "execution_count": 96,
      "outputs": []
    },
    {
      "cell_type": "code",
      "source": [
        "np.unique(augmented_labels_)"
      ],
      "metadata": {
        "colab": {
          "base_uri": "https://localhost:8080/"
        },
        "id": "Rp5CZuAbotT1",
        "outputId": "62405697-3b9a-4690-8f77-75cd2751fdc1"
      },
      "execution_count": 97,
      "outputs": [
        {
          "output_type": "execute_result",
          "data": {
            "text/plain": [
              "array([0, 8])"
            ]
          },
          "metadata": {},
          "execution_count": 97
        }
      ]
    },
    {
      "cell_type": "code",
      "source": [
        "# Save\n",
        "path='/content/drive/MyDrive/VideoFrames/DS/efpn_DecAug/'\n",
        "np.save(path+'augmented_loose_gasketX',augmented_images)\n",
        "np.save(path+'augmented_loose_gaskety',augmented_labels_)"
      ],
      "metadata": {
        "id": "VHqudEO9r8N2"
      },
      "execution_count": 98,
      "outputs": []
    },
    {
      "cell_type": "code",
      "source": [
        "plt.imshow(augmented_labels_[43])\n",
        "plt.show()\n",
        "plt.imshow(y6[43])\n",
        "plt.show()"
      ],
      "metadata": {
        "colab": {
          "base_uri": "https://localhost:8080/",
          "height": 851
        },
        "id": "XnrY596mpY8o",
        "outputId": "82fe70ec-efb5-4600-b6ee-8d0c243fc9be"
      },
      "execution_count": 89,
      "outputs": [
        {
          "output_type": "display_data",
          "data": {
            "text/plain": [
              "<Figure size 640x480 with 1 Axes>"
            ],
            "image/png": "[encoded data removed]"
          },
          "metadata": {}
        },
        {
          "output_type": "display_data",
          "data": {
            "text/plain": [
              "<Figure size 640x480 with 1 Axes>"
            ],
            "image/png": "[encoded data removed]"
          },
          "metadata": {}
        }
      ]
    },
    {
      "cell_type": "markdown",
      "source": [],
      "metadata": {
        "id": "EQspy6EMjyQx"
      }
    }
  ],
  "metadata": {
    "colab": {
      "machine_shape": "hm",
      "provenance": [],
      "mount_file_id": "17a0VzPVpgScHw1vJoaDGm-Iv7ulDxlpJ",
      "authorship_tag": "ABX9TyONEa/12m9Oq/LgN7LRaeFB",
      "include_colab_link": true
    },
    "kernelspec": {
      "display_name": "Python 3",
      "name": "python3"
    },
    "language_info": {
      "name": "python"
    }
  },
  "nbformat": 4,
  "nbformat_minor": 0
}